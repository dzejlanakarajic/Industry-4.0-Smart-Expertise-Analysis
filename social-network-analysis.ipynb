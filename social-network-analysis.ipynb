{
 "cells": [
  {
   "cell_type": "markdown",
   "id": "f09db1fc",
   "metadata": {},
   "source": [
    "### This scripts outlines steps used in SNA: creating edgelist data and centrality analysis"
   ]
  },
  {
   "cell_type": "markdown",
   "id": "6c15c151",
   "metadata": {},
   "source": [
    "###### Import Libraries"
   ]
  },
  {
   "cell_type": "code",
   "execution_count": 2,
   "id": "7c9990e6",
   "metadata": {},
   "outputs": [],
   "source": [
    "import networkx as nx\n",
    "import pandas as pd\n",
    "import ast\n",
    "import itertools\n",
    "import numpy as np\n",
    "from matplotlib import pyplot as plt"
   ]
  },
  {
   "cell_type": "markdown",
   "id": "5ea5a300",
   "metadata": {},
   "source": [
    "##### Prepare data and construct edgelist dataset"
   ]
  },
  {
   "cell_type": "markdown",
   "id": "751e8569",
   "metadata": {},
   "source": [
    "The first goal is to construct the employee network from the employee groups. To do this, a variable (employee groups) generated during the merge process is used. The network is modeled in the form of undirected and unweighted graphs. "
   ]
  },
  {
   "cell_type": "markdown",
   "id": "7bf3f93b",
   "metadata": {},
   "source": [
    "First, we remove employee groups of size 0 and 1 since it is not a network."
   ]
  },
  {
   "cell_type": "code",
   "execution_count": 4,
   "id": "df42b84c",
   "metadata": {},
   "outputs": [],
   "source": [
    "def prepare_data(df):\n",
    "    check_group = df['group_size'] == 1\n",
    "    check_empty_group = df['group_size'] == 0\n",
    "    df.drop(df.loc[check_group].index, inplace=True)\n",
    "    df.drop(df.loc[check_empty_group].index, inplace=True)\n",
    "    df = df[['hash_keys']].copy()\n",
    "    df.hash_keys = df.hash_keys.apply(ast.literal_eval)\n",
    "    \n",
    "    return df"
   ]
  },
  {
   "cell_type": "markdown",
   "id": "81662b43",
   "metadata": {},
   "source": [
    "Next, we generate edgelist data on groups by checking every array and creating combinations. For example the group of employees with IDs 1, 2, 3 represent nodes in the network and have a link between them meaning they have worked together in a shift or during the reparation of the machine."
   ]
  },
  {
   "cell_type": "code",
   "execution_count": 6,
   "id": "41ba5685",
   "metadata": {},
   "outputs": [],
   "source": [
    "def generate_edgelist(df):\n",
    "    for _, row in df.iterrows():\n",
    "        items = row['hash_keys']\n",
    "        combinations = list(itertools.combinations(items, 2))\n",
    "\n",
    "        with open('edgelist.csv', 'a') as fp:\n",
    "            for x in combinations:\n",
    "                fp.write(str(x[0]) + \" \" + str(x[1]) + \"\\n\")\n",
    "\n",
    "    return combinations"
   ]
  },
  {
   "cell_type": "code",
   "execution_count": 7,
   "id": "bbae8a33",
   "metadata": {},
   "outputs": [
    {
     "data": {
      "text/plain": [
       "[(35, 32), (35, 83), (32, 83)]"
      ]
     },
     "execution_count": 7,
     "metadata": {},
     "output_type": "execute_result"
    }
   ],
   "source": [
    "generate_edgelist(hash_keys_df)"
   ]
  },
  {
   "cell_type": "markdown",
   "id": "596b6234",
   "metadata": {},
   "source": [
    "##### Social network analysis"
   ]
  },
  {
   "cell_type": "markdown",
   "id": "42b068af",
   "metadata": {},
   "source": [
    "Having an edgelist data we can easily construct the employee network now with networkx library and analyze some of its features."
   ]
  },
  {
   "cell_type": "code",
   "execution_count": 9,
   "id": "b47bdbe6",
   "metadata": {},
   "outputs": [],
   "source": [
    "# Read the edgelist into a graph # adjust the path\n",
    "graph = nx.read_edgelist('edgelist.csv')"
   ]
  },
  {
   "cell_type": "markdown",
   "id": "33cbdae1",
   "metadata": {},
   "source": [
    "##### Network Statistics\n",
    "\n",
    "Some conventional stats regarding network, ex., nodes with highest number of connections, etc."
   ]
  },
  {
   "cell_type": "code",
   "execution_count": 10,
   "id": "971fbab6",
   "metadata": {},
   "outputs": [
    {
     "name": "stdout",
     "output_type": "stream",
     "text": [
      "Name: \n",
      "Type: Graph\n",
      "Number of nodes: 196\n",
      "Number of edges: 6796\n",
      "Average degree:  69.3469\n",
      "Network density: 0.3556253270538985\n",
      "Max node degree (in + out) is 153\n",
      "Min node degree (in + out) is 15\n",
      "Diameter of the network is 3\n",
      "Radius of the network is 2\n",
      "Average distance in the network 1.6680272108843537\n",
      "\n",
      "Is bipartite? False\n",
      "Is connected? True\n",
      "Number of node removals - 15, the node - {'190', '182', '81', '34', '5', '17', '131', '43', '125', '62', '23', '104', '95', '39', '54'}\n",
      "Number of edge removals - 15, the edge - {('79', '62'), ('79', '5'), ('79', '104'), ('79', '39'), ('79', '190'), ('79', '131'), ('79', '182'), ('79', '23'), ('79', '125'), ('79', '17'), ('79', '54'), ('79', '81'), ('79', '95'), ('79', '43'), ('79', '34')}\n"
     ]
    }
   ],
   "source": [
    "print(nx.info(graph))\n",
    "\n",
    "# Density of the graph\n",
    "density = nx.density(graph)\n",
    "print(\"Network density:\", density)\n",
    "\n",
    "# %% network stats\n",
    "print(\"Max node degree (in + out) is {}\".format(max(nx.degree(graph), key=lambda x: x[1])[1]))\n",
    "print(\"Min node degree (in + out) is {}\".format(min(nx.degree(graph), key=lambda x: x[1])[1]))\n",
    "print(\"Diameter of the network is {}\".format(nx.diameter(graph)))\n",
    "print(\"Radius of the network is {}\".format(nx.radius(graph)))\n",
    "print(\"Average distance in the network {}\\n\".format(nx.average_shortest_path_length(graph)))\n",
    "\n",
    "print(\"Is bipartite? {}\".format(nx.is_bipartite(graph)))\n",
    "print(\"Is connected? {}\".format(nx.is_connected(graph)))\n",
    "\n",
    "# %% Node and edge removal\n",
    "print(\"Number of node removals - {}, the node - {}\".format(nx.node_connectivity(graph), nx.minimum_node_cut(graph)))\n",
    "print(\"Number of edge removals - {}, the edge - {}\".format(nx.edge_connectivity(graph), nx.minimum_edge_cut(graph)))"
   ]
  },
  {
   "cell_type": "markdown",
   "id": "fb0fdfaa",
   "metadata": {},
   "source": [
    "###### Centrality measures\n",
    "\n",
    "Betweneess, closeness and degree centrality metrics are used to evaluate node importance in a network. "
   ]
  },
  {
   "cell_type": "code",
   "execution_count": 13,
   "id": "4eb3d847",
   "metadata": {},
   "outputs": [
    {
     "name": "stdout",
     "output_type": "stream",
     "text": [
      "5 most important nodes as per Degree centrality\n",
      " ['108', '109', '166', '116', '63']\n",
      "\n",
      "\n",
      "5 most important nodes as per Closeness centrality\n",
      " ['108', '109', '166', '116', '63']\n",
      "\n",
      "\n"
     ]
    }
   ],
   "source": [
    "# degree centrality\n",
    "deg_centrality = nx.degree_centrality(graph)\n",
    "size = [deg_centrality[n] * 5000 for n in graph.nodes()]\n",
    "\n",
    "print(\"5 most important nodes as per Degree centrality\\n {}\\n\\n\".format(\n",
    "    [n[0] for n in sorted(deg_centrality.items(), key=lambda x: x[1], reverse=True)[:5]]\n",
    "))\n",
    "\n",
    "# closeness centrality\n",
    "closeness_centrality = nx.closeness_centrality(graph)\n",
    "size = [-1000 * np.log((1 - closeness_centrality[n])) ** 3 for n in graph.nodes()]\n",
    "\n",
    "print(\"5 most important nodes as per Closeness centrality\\n {}\\n\\n\".format(\n",
    "    [n[0] for n in sorted(closeness_centrality.items(), key=lambda x: x[1], reverse=True)[:5]]\n",
    "))"
   ]
  }
 ],
 "metadata": {
  "kernelspec": {
   "display_name": "Python 3",
   "language": "python",
   "name": "python3"
  },
  "language_info": {
   "codemirror_mode": {
    "name": "ipython",
    "version": 3
   },
   "file_extension": ".py",
   "mimetype": "text/x-python",
   "name": "python",
   "nbconvert_exporter": "python",
   "pygments_lexer": "ipython3",
   "version": "3.8.8"
  }
 },
 "nbformat": 4,
 "nbformat_minor": 5
}
